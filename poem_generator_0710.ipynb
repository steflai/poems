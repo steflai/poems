{
 "cells": [
  {
   "cell_type": "code",
   "execution_count": 3,
   "metadata": {},
   "outputs": [],
   "source": [
    "base_text = open('omelas.txt').read()"
   ]
  },
  {
   "cell_type": "code",
   "execution_count": 4,
   "metadata": {},
   "outputs": [
    {
     "data": {
      "text/plain": [
       "'WITH a clamor of bells that set the swallows soaring, the Festival of Summer came to the city\\nOmelas, bright-towered by the sea. The rigging of the boats in harbor sparkled with flags. In\\nthe streets between houses with red roofs and painted walls, between old moss-grown\\ngardens and under avenues of trees, past great parks and public buildings, processions\\nmoved. Some were decorous: old people in long stiff robes of mauve and grey, grave master\\nworkmen, quiet, merry women carrying their babies and chatting as they walked. In other\\nstreets the music beat faster, a shimmering of gong and tambourine, and the people went\\ndancing, the procession was a dance. Children dodged in and out, their high calls rising like\\nthe swallows\\' crossing flights over the music and the singing. All the processions wound\\ntowards the north side of the city, where on the great water-meadow called the Green Fields\\nboys and girls, naked in the bright air, with mud-stained feet and ankles and long, lithe arms,\\nexercised their restive horses before the race. The horses wore no gear at all but a halter\\nwithout bit. Their manes were braided with streamers of silver, gold, and green. They flared\\ntheir nostrils and pranced and boasted to one another; they were vastly excited, the horse\\nbeing the only animal who has adopted our ceremonies as his own. Far off to the north and\\nwest the mountains stood up half encircling Omelas on her bay. The air of morning was so\\nclear that the snow still crowning the Eighteen Peaks burned with white-gold fire across the\\nmiles of sunlit air, under the dark blue of the sky. There was just enough wind to make the\\nbanners that marked the racecourse snap and flutter now and then. In the silence of the\\nbroad green meadows one could hear the music winding through the city streets, farther and\\nnearer and ever approaching, a cheerful faint sweetness of the air that from time to time\\ntrembled and gathered together and broke out into the great joyous clanging of the bells.\\nJoyous! How is one to tell about joy? How describe the citizens of Omelas?\\nThey were not simple folk, you see, though they were happy. But we do not say the words of\\ncheer much any more. All smiles have become archaic. Given a description such as this one\\ntends to make certain assumptions. Given a description such as this one tends to look next\\nfor the King, mounted on a splendid stallion and surrounded by his noble knights, or perhaps\\nin a golden litter borne by great-muscled slaves. But there was no long. They did not use\\nswords, or keep slaves. They were not barbarians. I do not know the rules and laws of their\\nsociety, but I suspect that they were singularly few. As they did without monarchy and\\nslavery, so they also got on without the stock exchange, the advertisement, the secret police,\\nand the bomb. Yet I repeat that these were not simple folk, not dulcet shepherds, noble\\nsavages, bland utopians. They were not less complex than us. The trouble is that we have a\\nbad habit, encouraged by pedants and sophisticates, of considering happiness as something\\nrather stupid. Only pain is intellectual, only evil interesting. This is the treason of the artist: a\\nrefusal to admit the banality of evil and the terrible boredom of pain. If you can\\'t lick \\'em,\\njoin \\'em. If it hurts, repeat it. But to praise despair is to condemn delight, to embrace\\nviolence is to lose hold of everything else. We have almost lost hold; we can no longer\\nLe Guin â€“ THE ONES WHO WALK AWAY Page 2/5\\ndescribe a happy man, nor make any celebration of joy. How can I tell you about the people\\nof Omelas? They were not naive and happy children-though their children were, in fact,\\nhappy. They were mature, intelligent, passionate adults whose lives were not wretched. O\\nmiracle! but I wish I could describe it better. I wish I could convince you. Omelas sounds in\\nmy words like a city in a fairy tale, long ago and far away, once upon a time. Perhaps it\\nwould be best if you imagined it as your own fancy bids, assuming it will rise to the occasion,\\nfor certainly I cannot suit you all. For instance, how about technology? I think that there\\nwould be no cars or helicopters in and above the streets; this follows from the fact that the\\npeople of Omelas are happy people. Happiness is based on a just discrimination of what is\\nnecessary, what is neither necessary nor destructive, and what is destructive. In the middle\\ncategory, howeverâ€”that of the unnecessary but imdestructive, that of comfort, luxury,\\nexuberance, etc.â€”they could perfectly well have central heating, subway trains, washing\\nmachines, and all kinds of marvelous devices not yet invented here, floating light-sources,\\nfuelless power, a cure for the common cold. Or they could have none of that: it doesn\\'t\\nmatter. As you like it. I incline to think that people from towns up and down the coast have\\nbeen coming in to Omelas during the last days before the Festival on very fast little trains\\nand double-decked trams, and that the train station of Omelas is actually the handsomest\\nbuilding in town, though plainer than the magnificent Farmers\\' Market. But even granted\\ntrains, I fear that Omelas so far strikes some of you as goody-goody. Smiles, bells, parades,\\nhorses, bleh. If so, please add an orgy. If an orgy would help, don\\'t hesitate. Let us not,\\nhowever, have temples from which issue beautiful nude priests and priestesses already half\\nin ecstasy and ready to copulate with any man or woman, lover or stranger, who desires\\nunion with the deep godhead of the blood, although that was my first idea. But really it\\nwould be better not to have any temples in Omelasâ€”at least, not manned temples. Religion\\nyes, clergy no. Surely the beautiful nudes can just wander about, offering themselves like\\ndivine souffles to the hunger of the needy and the rapture of the flesh. Let them join the\\nprocessions. Let tambourines be struck above the copulations, and the glory of desire be\\nproclaimed upon the gongs, and (a not unimportant point) let the offspring of these\\ndelightful rituals be beloved and looked after by all. One thing I know there is none of in\\nOmelas is guilt. But what else should there be? I thought at first there were no drugs, but\\nthat is puritanical. For those who like it, the faint insistent sweetness of drooz may perfume\\nthe ways of the city, drooz which first brings a great lightness and brilliance to the mind and\\nlimbs, and then after some hours a dreamy languor, and wonderful visions at last of the very\\narcana and inmost secrets of the Universe, as well as exciting the pleasure of sex beyond all\\nbelief; and it is not habit-forming. For more modest tastes I think there ought to be beer.\\nWhat else, what else belongs in the joyous city? The sense of victory, surely, the celebration\\nof courage. But as we did without clergy, let us do without soldiers. The joy built upon\\nsuccessful slaughter is not the right kind of joy; it will not do; it is fearful and it is trivial. A\\nboundless and generous contentment, a magnanimous triumph felt not against some outer\\nenemy but in communion with the finest and fairest in the souls of all men everywhere and\\nthe splendor of the world\\'s summer: this is what swells the hearts of the people of Omelas,\\nand the victory they celebrate is that of life. I really don\\'t think many of them need to take\\ndrooz.\\nMost of the processions have reached the Green Fields by now. A marvelous smell of cooking\\ngoes forth from the red and blue tents of the provisioners. The faces of small children are\\namiably sticky; in the benign grey beard of a man a couple of crumbs of rich pastry are \\nLe Guin â€“ THE ONES WHO WALK AWAY Page 3/5\\nentangled. The youths and girls have mounted their horses and are beginning to group\\naround the starting line of the course. An old woman, small, fat, and laughing, is passing out\\nflowers from a basket, and tall young men wear her flowers in their shining hair. A child of\\nnine or ten sits at the edge of the crowd, alone, playing on a wooden flute. People pause to\\nlisten, and they smile, but they do not speak to him, for he never ceases playing and never\\nsees them, his dark eyes wholly rapt in the sweet, thin magic of the tune.\\nHe finishes, and slowly lowers his bands holding the wooden flute.\\nAs if that little private silence were the signal, all at once a trumpet sounds from the pavilion\\nnear the starting line: imperious, melancholy, piercing. The horses rear on their slender legs,\\nand some of them neigh in answer. Sober-faced, the young riders stroke the horses\\' necks\\nand soothe them, whispering, \"Quiet, quiet, there my beauty, my hope . . . .\" They begin to\\nform in rank along the starting line. The crowds along the racecourse are like a field of grass\\nand flowers in the wind. The Festival of Summer has begun.\\nDo you believe? Do you accept the festival, the city, the joy? No? Then let me describe one\\nmore thing.\\nIn a basement under one of the beautiful public buildings of Omelas, or perhaps in the cellar\\nof one of its spacious private homes, there is a room. It has one locked door, and no\\nwindow. A little light seeps in dustily between cracks in the boards, secondhand from a\\ncobwebbed window somewhere across the cellar. In one corner of the little room a couple of\\nmops, with stiff, clotted, foul-smelling heads, stand near a rusty bucket. The floor is dirt, a\\nlittle damp to the touch, as cellar dirt usually is. The room is about three paces long and two\\nwide: a mere broom closet or disused tool room. In the room a child is sitting. It could be a\\nboy or a girl. It looks about six, but actually is nearly ten. It is feeble-minded. Perhaps it was\\nborn defective, or perhaps it has become imbecile through fear, malnutrition, and neglect. It\\npicks its nose and occasionally fumbles vaguely with its toes or genitals, as it sits hunched in\\nthe corner farthest from the bucket and the two mops. It is afraid of the mops. It finds them\\nhorrible. It shuts its eyes, but it knows the mops are still standing there; and the door is\\nlocked; and nobody will come. The door is always locked; and nobody ever comes, except\\nthat sometimesâ€”the child has no understanding of time or intervalâ€”sometimes the door\\nrattles terribly and opens, and a person, or several people, are there. One of them may come\\nin and kick the child to make it stand up. The others never come close, but peer in at it with\\nfrightened, disgusted eyes. The food bowl and the water jug are hastily filled, the door is\\nlocked, the eyes disappear. The people at the door never say anything, but the child, who\\nhas not always lived in the tool room, and can remember sunlight and its mother\\'s voice,\\nsometimes speaks. \"I will be good,\" it says. \"Please let me out. I will be good!\" They never\\nanswer. The child used to scream for help at night, and cry a good deal, but now it only\\nmakes a kind of whining, \"eh-haa, eh-haa,\" and it speaks less and less often. It is so thin\\nthere are no calves to its legs; its belly protrudes; it lives on a half-bowl of corn meal and\\ngrease a day. It is naked. Its buttocks and thighs are a mass of festered sores, as it sits in its\\nown excrement continually.\\nThey all know it is there, all the people of Omelas. Some of them have come to see it, others\\nare content merely to know it is there. They all know that it has to be there. Some of them \\nLe Guin â€“ THE ONES WHO WALK AWAY Page 4/5\\nunderstand why, and some do not, but they all understand that their happiness, the beauty\\nof their city, the tenderness of their friendships, the health of their children, the wisdom of\\ntheir scholars, the skill of their makers, even the abundance of their harvest and the kindly\\nweathers of their skies, depend wholly on this child\\'s abominable misery.\\nThis is usually explained to children when they are between eight and twelve, whenever they\\nseem capable of understanding; and most of those who come to see the child are young\\npeople, though often enough an adult comes, or comes back, to see the child. No matter\\nhow well the matter has been explained to them, these young spectators are always shocked\\nand sickened at the sight. They feel disgust, which they had thought themselves superior to.\\nThey feel anger, outrage, impotence, despite all the explanations. They would like to do\\nsomething for the child. But there is nothing they can do. If the child were brought up into\\nthe sunlight out of that vile place, if it were cleaned and fed and comforted, that would be a\\ngood thing, indeed; but if it were done, in that day and hour all the prosperity and beauty\\nand delight of Omelas would wither and be destroyed. Those are the terms. To exchange all\\nthe goodness and grace of every life in Omelas for that single, small improvement: to throw\\naway the happiness of thousands for the chance of the happiness of one: that would be to\\nlet guilt within the walls indeed.\\nThe terms are strict and absolute; there may not even be a kind word spoken to the child.\\nOften the young people go home in tears, or in a tearless rage, when they have seen the\\nchild and faced this terrible paradox. They may brood over it for weeks or years. But as time\\ngoes on they begin to realize that even if the child could be released, it would not get much\\ngood of its freedom: a little vague pleasure of warmth and food, no doubt, but little more. It\\nis too degraded and imbecile to know any real joy. It has been afraid too long ever to be free\\nof fear. Its habits are too uncouth for it to respond to humane treatment. Indeed, after so\\nlong it would probably be wretched without walls about it to protect it, and darkness for its\\neyes, and its own excrement to sit in. Their tears at the bitter injustice dry when they begin\\nto perceive the terrible justice of reality, and to accept it. Yet it is their tears and anger, the\\ntrying of their generosity and the acceptance of their helplessness, which are perhaps the\\ntrue source of the splendor of their lives. Theirs is no vapid, irresponsible happiness. They\\nknow that they, like the child, are not free. They know compassion. It is the existence of the\\nchild, and their knowledge of its existence, that makes possible the nobility of their\\narchitecture, the poignancy of their music, the profundity of their science. It is because of the\\nchild that they are so gentle with children. They know that if the wretched one were not\\nthere snivelling in the dark, the other one, the flute-player, could make no joyful music as the\\nyoung riders line up in their beauty for the race in the sunlight of the first morning of\\nsummer.\\nNow do you believe in them? Are they not more credible? But there is one more thing to tell,\\nand this is quite incredible.\\nAt times one of the adolescent girls or boys who go to see the child does not go home to\\nweep or rage, does not, in fact, go home at all. Sometimes also a man or woman much older\\nfalls silent for a day or two, and then leaves home. These people go out into the street, and\\nwalk down the street alone. They keep walking, and walk straight out of the city of Omelas, \\nLe Guin â€“ THE ONES WHO WALK AWAY Page 5/5\\nthrough the beautiful gates. They keep walking across the farmlands of Omelas. Each one\\ngoes alone, youth or girl, man or woman. Night falls; the traveler must pass down village\\nstreets, between the houses with yellow-lit windows, and on out into the darkness of the\\nfields. Each alone, they go west or north, towards the mountains. They go on. They leave\\nOmelas, they walk ahead into the darkness, and they do not come back. The place they go\\ntowards is a place even less imaginable to most of us than the city of happiness. I cannot\\ndescribe it at all. It is possible that it does not exist. But they seem to know where they are\\ngoing, the ones who walk away from Omelas.\\nThe central idea of this psychomyth, the scapegoat, turns up in Dostoyevsky\\'s Brothers\\nKaramazov, and several people have asked me, rather suspiciously, why I gave the credit to\\nWilliam James. The fact is, I haven\\'t been able to re-read Dostoyevsky, much as I loved him,\\nsince I was twenty-five, and I\\'d simply forgotten he used the idea. But when I met it in\\nJames\\'s \"The Moral Philosopher and the Moral Life,\" it was with a shock of recognition. Here\\nis how James puts it:\\n\\n\"Or if the hypothesis were offered us of a world in which Messrs. Fourier\\'s and\\nBellamy\\'s and Morris\\'s Utopias should all be outdone, and millions kept permanently\\nhappy on the one simple condition that a certain lost soul on the far-off edge of things\\nshould lead a life of lonely torment, what except a specifical and independent sort of\\nemotion can it be which would make us immediately feel, even though an impulse\\narose within us to clutch at the happiness so offered, how hideous a thing would be its\\nenjoyment when deliberately accepted as the fruit of such a bargain?\"\\n\\nThe dilemma of the American conscience can hardly be better stated. Dostoyevsky was a\\ngreat artist, and a radical one, but his early social radicalism reversed itself, leaving him a\\nviolent reactionary. Whereas the American James, who seems so mild, so naively\\ngentlemanlyâ€”look how he says \"us,\" assuming all his readers are as decent as himself! â€”\\nwas, and remained, and remains, a genuinely radical thinker. Directly after the \"lost soul\"\\npassage he goes on,\\n\\n\"All the higher, more penetrating ideals are revolutionary. They present themselves far\\nless in the guise of effects of past experience than in that of probable causes of future\\nexperience, factors to which the environment and the lessons it has so far taught us\\nmust learn to bend.\"\\n\\nThe application of those two sentences to this story, and to science fiction, and to all thinking\\nabout the future, is quite direct. Ideals as \"the probable causes of future experience\"â€”that is\\na subtle and an exhilarating remark!\\n\\nOf course I didn\\'t read James and sit down and say. Now I\\'ll write a story about that \"lost\\nsoul.\" It seldom works that simply. I sat down and started a story, just because I felt like it,\\nwith nothing but the word \"Omelas\" in mind. It came from a road sign: Salem (Oregon)\\nbackwards. Don\\'t you read road signs backwards? POTS. WOLS nerdlihc. Ocsicnarf Nas . . .\\nSalem equals schelomo equals salaam equals Peace. Melas. O melas. Omelas. Homme helas.\\n\"Where do you get your ideas from, Ms Le Guin?\" From forgetting Dostoyevsky and reading\\nroad signs backwards, naturally. Where else?'"
      ]
     },
     "execution_count": 4,
     "metadata": {},
     "output_type": "execute_result"
    }
   ],
   "source": [
    "base_text"
   ]
  },
  {
   "cell_type": "markdown",
   "metadata": {},
   "source": [
    "Import text \n",
    "Extract words from text -- use parts of speech, words that begin with, random \n",
    "\n",
    "can share as .py that takes in file name then generates poem "
   ]
  },
  {
   "cell_type": "code",
   "execution_count": 5,
   "metadata": {},
   "outputs": [
    {
     "name": "stdout",
     "output_type": "stream",
     "text": [
      "parts of speech:  [('Can', 'MD'), ('you', 'PRP'), ('please', 'VB'), ('buy', 'VB'), ('me', 'PRP'), ('a', 'DT'), ('Pepsi', 'NNP'), ('?', '.'), ('It', 'PRP'), (\"'s\", 'VBZ'), ('only', 'RB'), ('one', 'CD'), ('dollar', 'NN')]\n"
     ]
    }
   ],
   "source": [
    "import nltk\n",
    "tokens = nltk.word_tokenize(\"Can you please buy me a Pepsi? It's only one dollar\")\n",
    "print (\"parts of speech: \", nltk.pos_tag(tokens))"
   ]
  },
  {
   "cell_type": "code",
   "execution_count": 6,
   "metadata": {},
   "outputs": [],
   "source": [
    "sentence = \"With a clamor of bells that set the swallows soaring, the Festival of Summer came to the city Omelas, bright-towered by the sea.\"\n",
    "tokens_a = nltk.word_tokenize(sentence)\n"
   ]
  },
  {
   "cell_type": "code",
   "execution_count": 7,
   "metadata": {},
   "outputs": [
    {
     "name": "stdout",
     "output_type": "stream",
     "text": [
      "['With', 'a', 'clamor', 'of', 'bells', 'that', 'set', 'the', 'swallows', 'soaring', ',', 'the', 'Festival', 'of', 'Summer', 'came', 'to', 'the', 'city', 'Omelas', ',', 'bright-towered', 'by', 'the', 'sea', '.']\n"
     ]
    }
   ],
   "source": [
    "print (tokens_a)"
   ]
  },
  {
   "cell_type": "code",
   "execution_count": 8,
   "metadata": {},
   "outputs": [],
   "source": [
    "def make_pos_list (tokenized_sentence, id_list):\n",
    "    pos_list = []\n",
    "    tagged_sentence = nltk.pos_tag(tokenized_sentence)\n",
    "    for i in range(len(tagged_sentence)):\n",
    "        for j in range (len(id_list)):\n",
    "            if (id_list[j]) in tagged_sentence[i]: \n",
    "                pos_list.append(tokenized_sentence[i])\n",
    "    return pos_list\n"
   ]
  },
  {
   "cell_type": "code",
   "execution_count": 9,
   "metadata": {},
   "outputs": [],
   "source": [
    "noun_ids = [\"NN\", \"NNS\", \"NNP\", \"NNPS\"]\n",
    "adj_ids = ['JJ', 'JJR', 'JJS']\n",
    "adverb_ids = ['RB', 'RBR', 'RBS']\n",
    "pronoun_ids = ['PRP', 'PRP$']\n",
    "verb_ids = ['VB', 'VBD', 'VBG', 'VBN', 'VBP', 'VBZ']\n"
   ]
  },
  {
   "cell_type": "code",
   "execution_count": 10,
   "metadata": {},
   "outputs": [],
   "source": [
    "omelas_toks = nltk.word_tokenize(base_text)"
   ]
  },
  {
   "cell_type": "code",
   "execution_count": 11,
   "metadata": {},
   "outputs": [],
   "source": [
    "nouns = make_pos_list(omelas_toks, noun_ids)\n",
    "adjs = make_pos_list(omelas_toks, adj_ids)\n",
    "adverbs = make_pos_list(omelas_toks, adverb_ids)\n",
    "pronouns = make_pos_list(omelas_toks, pronoun_ids)\n",
    "verbs = make_pos_list(omelas_toks, verb_ids)"
   ]
  },
  {
   "cell_type": "code",
   "execution_count": 41,
   "metadata": {},
   "outputs": [
    {
     "name": "stdout",
     "output_type": "stream",
     "text": [
      "['faster', 'long', 'vastly', 'so', 'still', 'just', 'enough', 'now', 'then', 'farther', 'ever', 'together', 'not', 'not', 'perhaps', 'not', 'not', 'not', 'singularly', 'also', 'not', 'not', 'not', 'less', 'rather', 'Only', 'only', \"n't\", 'else', 'almost', 'no', 'longer', 'not', 'not', 'long', 'ago', 'far', 'away', 'once', 'Perhaps', 'best', 'certainly', 'not', 'just', 'perfectly', 'well', 'not', 'yet', 'here', 'very', 'actually', 'even', 'so', 'far', 'so', \"n't\", 'not', 'however', 'already', 'really', 'better', 'not', 'not', 'Surely', 'just', 'about', 'not', 'else', 'there', 'then', 'very', 'as', 'well', 'not', 'there', 'else', 'surely', 'not', 'not', 'not', 'everywhere', 'really', \"n't\", 'now', 'forth', 'amiably', 'alone', 'not', 'never', 'never', 'wholly', 'slowly', 'once', 'Then', 'perhaps', 'dustily', 'somewhere', 'dirt', 'usually', 'long', 'actually', 'nearly', 'ten', 'Perhaps', 'perhaps', 'occasionally', 'vaguely', 'still', 'there', 'always', 'ever', 'sometimes', 'terribly', 'there', 'never', 'close', 'hastily', 'never', 'not', 'always', 'sometimes', 'never', 'now', 'only', 'less', 'less', 'often', 'so', 'belly', 'continually', 'there', 'merely', 'there', 'there', 'not', 'even', 'wholly', 'usually', 'though', 'often', 'enough', 'back', 'well', 'always', 'disgust', 'anger', 'indeed', 'indeed', 'not', 'even', 'even', 'not', 'much', 'little', 'too', 'too', 'long', 'ever', 'too', 'Indeed', 'so', 'probably', 'perhaps', 'not', 'so', 'not', 'there', 'up', 'Now', 'not', 'more', 'quite', 'not', 'not', 'also', 'then', 'alone', 'alone', 'alone', 'ahead', 'not', 'back', 'even', 'less', 'not', 'not', 'away', 'rather', 'suspiciously', \"n't\", 'much', 'simply', 'Here', 'all', 'permanently', 'immediately', 'even', 'so', 'deliberately', 'hardly', 'better', 'so', 'so', 'naively', 'as', 'genuinely', 'Directly', 'more', 'far', 'less', 'so', 'far', 'quite', \"n't\", 'Now', 'simply', 'down', 'just', \"n't\", 'naturally', 'else']\n"
     ]
    }
   ],
   "source": [
    "print(adverbs)"
   ]
  },
  {
   "cell_type": "code",
   "execution_count": 36,
   "metadata": {},
   "outputs": [],
   "source": [
    "unique_pronouns = list(dict.fromkeys(pronouns)) "
   ]
  },
  {
   "cell_type": "code",
   "execution_count": 13,
   "metadata": {},
   "outputs": [],
   "source": [
    "import random "
   ]
  },
  {
   "cell_type": "code",
   "execution_count": 29,
   "metadata": {
    "scrolled": true
   },
   "outputs": [
    {
     "name": "stdout",
     "output_type": "stream",
     "text": [
      "finest Bellamy done\n",
      "bowl will nearly comes\n",
      "starting their was\n",
      "the weeks of you\n",
      "north injustice\n",
      "\n",
      "twenty-five cracks been\n",
      "Do have little was\n",
      "dancing They have\n",
      "a adults for They\n",
      "future do Brothers\n",
      "\n",
      "arcana jug intervalâ€\n",
      "architecture will not naked\n",
      "is It is\n",
      "the babies of he\n",
      "impulse race\n",
      "\n",
      "disgusted word had\n",
      "existence have once make\n",
      "girl I wander\n",
      "a street for its\n",
      "much be crowd\n",
      "\n",
      "wooden shepherds add\n",
      "intelligent will not walk\n",
      "set It wander\n",
      "the freedom of I\n",
      "great James\n",
      "\n",
      "higher Far do\n",
      "fumbles have also goes\n",
      "be They were\n",
      "a coast for they\n",
      "good let woman\n",
      "\n"
     ]
    }
   ],
   "source": [
    "for i in range(3):\n",
    "    print (random.choice(adjs), random.choice(nouns), random.choice(verbs))\n",
    "    print (random.choice(nouns), 'will', random.choice(adverbs), random.choice(verbs))\n",
    "    print (random.choice (verbs), random.choice (pronouns), random.choice(verbs))\n",
    "    print ('the', random.choice(nouns), 'of', random.choice(pronouns))\n",
    "    print (random.choice(adjs), random.choice(nouns))\n",
    "    print ('')\n",
    "    print (random.choice(adjs), random.choice(nouns), random.choice(verbs))\n",
    "    print (random.choice(nouns), 'have', random.choice(adverbs), random.choice(verbs))\n",
    "    print (random.choice (verbs), random.choice (pronouns), random.choice(verbs))\n",
    "    print ('a', random.choice(nouns), 'for', random.choice(pronouns))\n",
    "    print (random.choice(adjs), random.choice(verbs), random.choice(nouns))\n",
    "    print ('')"
   ]
  },
  {
   "cell_type": "code",
   "execution_count": 46,
   "metadata": {},
   "outputs": [
    {
     "name": "stdout",
     "output_type": "stream",
     "text": [
      "what is your name? hell\n",
      "how long would you like your poem to be? 10\n",
      "OK\n",
      "a poem for hell\n"
     ]
    }
   ],
   "source": [
    "name = input(\"what is your name? \")\n",
    "length = input('how long would you like your poem to be? ')\n",
    "if length.isdigit():\n",
    "    print (\"OK\")\n",
    "print (\"a poem for\", name)"
   ]
  }
 ],
 "metadata": {
  "kernelspec": {
   "display_name": "Python 3",
   "language": "python",
   "name": "python3"
  },
  "language_info": {
   "codemirror_mode": {
    "name": "ipython",
    "version": 3
   },
   "file_extension": ".py",
   "mimetype": "text/x-python",
   "name": "python",
   "nbconvert_exporter": "python",
   "pygments_lexer": "ipython3",
   "version": "3.5.6"
  }
 },
 "nbformat": 4,
 "nbformat_minor": 4
}
